{
 "cells": [
  {
   "cell_type": "markdown",
   "metadata": {},
   "source": [
    "# Generate ticker list\n",
    "\n",
    "files gotten here: https://www.nasdaq.com/screening/company-list.aspx"
   ]
  },
  {
   "cell_type": "code",
   "execution_count": 32,
   "metadata": {
    "ExecuteTime": {
     "end_time": "2019-01-11T02:44:15.575195Z",
     "start_time": "2019-01-11T02:44:15.552925Z"
    }
   },
   "outputs": [],
   "source": [
    "import pandas as pd\n",
    "import numpy as np\n",
    "import pickle\n",
    "import re"
   ]
  },
  {
   "cell_type": "code",
   "execution_count": 4,
   "metadata": {
    "ExecuteTime": {
     "end_time": "2019-01-11T02:35:46.941368Z",
     "start_time": "2019-01-11T02:35:46.760221Z"
    }
   },
   "outputs": [],
   "source": [
    "nasdaq_list = pd.read_csv('nasdaq.csv')[['Symbol','Name']]\n",
    "nasdaq_list['Symbol'] = 'NASDAQ:'+nasdaq_list['Symbol']\n",
    "nyse_list = pd.read_csv('nyse.csv')[['Symbol','Name']]\n",
    "nyse_list['Symbol'] = 'NYSE:'+nyse_list['Symbol']\n",
    "amex_list = pd.read_csv('amex.csv')[['Symbol','Name']]\n",
    "amex_list['Symbol'] = 'AMEX:'+amex_list['Symbol']"
   ]
  },
  {
   "cell_type": "code",
   "execution_count": 15,
   "metadata": {
    "ExecuteTime": {
     "end_time": "2019-01-11T02:38:58.874924Z",
     "start_time": "2019-01-11T02:38:58.870185Z"
    }
   },
   "outputs": [],
   "source": [
    "company_list = np.vstack([nasdaq_list.values,nyse_list.values,amex_list.values])"
   ]
  },
  {
   "cell_type": "code",
   "execution_count": 33,
   "metadata": {
    "ExecuteTime": {
     "end_time": "2019-01-11T02:45:39.198958Z",
     "start_time": "2019-01-11T02:45:39.171676Z"
    }
   },
   "outputs": [],
   "source": [
    "pickle.dump(company_list,open('../app/data/company_list.pkl','wb'))"
   ]
  },
  {
   "cell_type": "code",
   "execution_count": 18,
   "metadata": {
    "ExecuteTime": {
     "end_time": "2019-01-11T02:39:14.606375Z",
     "start_time": "2019-01-11T02:39:14.600786Z"
    }
   },
   "outputs": [],
   "source": [
    "def find_ticker(r, entry):\n",
    "    # entry is ['exchange:ticker','name']\n",
    "    return r.match(entry[1].lower())"
   ]
  },
  {
   "cell_type": "code",
   "execution_count": 29,
   "metadata": {
    "ExecuteTime": {
     "end_time": "2019-01-11T02:39:54.441106Z",
     "start_time": "2019-01-11T02:39:54.436308Z"
    }
   },
   "outputs": [],
   "source": [
    "r = re.compile(\".*google.*\")"
   ]
  },
  {
   "cell_type": "code",
   "execution_count": 30,
   "metadata": {
    "ExecuteTime": {
     "end_time": "2019-01-11T02:39:54.887861Z",
     "start_time": "2019-01-11T02:39:54.863893Z"
    }
   },
   "outputs": [],
   "source": [
    "newlist = list(filter(lambda x: find_ticker(r,x), company_list))  # Note 1"
   ]
  },
  {
   "cell_type": "code",
   "execution_count": 31,
   "metadata": {
    "ExecuteTime": {
     "end_time": "2019-01-11T02:39:55.357832Z",
     "start_time": "2019-01-11T02:39:55.348012Z"
    }
   },
   "outputs": [
    {
     "data": {
      "text/plain": [
       "[]"
      ]
     },
     "execution_count": 31,
     "metadata": {},
     "output_type": "execute_result"
    }
   ],
   "source": [
    "newlist"
   ]
  },
  {
   "cell_type": "code",
   "execution_count": null,
   "metadata": {},
   "outputs": [],
   "source": []
  }
 ],
 "metadata": {
  "kernelspec": {
   "display_name": "Python 3",
   "language": "python",
   "name": "python3"
  },
  "language_info": {
   "codemirror_mode": {
    "name": "ipython",
    "version": 3
   },
   "file_extension": ".py",
   "mimetype": "text/x-python",
   "name": "python",
   "nbconvert_exporter": "python",
   "pygments_lexer": "ipython3",
   "version": "3.5.4"
  },
  "varInspector": {
   "cols": {
    "lenName": 16,
    "lenType": 16,
    "lenVar": 40
   },
   "kernels_config": {
    "python": {
     "delete_cmd_postfix": "",
     "delete_cmd_prefix": "del ",
     "library": "var_list.py",
     "varRefreshCmd": "print(var_dic_list())"
    },
    "r": {
     "delete_cmd_postfix": ") ",
     "delete_cmd_prefix": "rm(",
     "library": "var_list.r",
     "varRefreshCmd": "cat(var_dic_list()) "
    }
   },
   "types_to_exclude": [
    "module",
    "function",
    "builtin_function_or_method",
    "instance",
    "_Feature"
   ],
   "window_display": false
  }
 },
 "nbformat": 4,
 "nbformat_minor": 2
}
