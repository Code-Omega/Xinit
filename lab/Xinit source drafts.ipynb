{
 "cells": [
  {
   "cell_type": "code",
   "execution_count": 1,
   "metadata": {
    "ExecuteTime": {
     "end_time": "2019-01-10T18:10:15.755024Z",
     "start_time": "2019-01-10T18:10:14.144182Z"
    }
   },
   "outputs": [],
   "source": [
    "from sklearn.feature_extraction.text import TfidfVectorizer\n",
    "import feedparser\n",
    "import urllib\n",
    "from bs4 import BeautifulSoup\n",
    "import json"
   ]
  },
  {
   "cell_type": "code",
   "execution_count": 44,
   "metadata": {
    "ExecuteTime": {
     "end_time": "2019-01-10T23:13:47.790800Z",
     "start_time": "2019-01-10T23:13:47.504175Z"
    }
   },
   "outputs": [],
   "source": [
    "\n",
    "CNBC_feed_url = 'https://www.cnbc.com/id/10000664/device/rss/rss.html'\n",
    "dCNBC = feedparser.parse(CNBC_feed_url)\n",
    "\n",
    "def get_CNBC_text(url):\n",
    "    \"\"\"\n",
    "    return the title and the text of the article\n",
    "    at the specified url\n",
    "    \"\"\"\n",
    "    page = urllib.request.urlopen(url).read()\n",
    "    soup = BeautifulSoup(page,\"lxml\")\n",
    "    # scrape for content\n",
    "    # for CNBC only\n",
    "    content = soup.find(\"div\", {\"id\": \"article_body\"})\n",
    "    if not content:\n",
    "        content = soup.find(\"div\", {\"class\": \"story_listicle_body\"})\n",
    "    if not content:\n",
    "        content = soup.find(\"div\", {\"id\": \"slideshow-text\"})\n",
    "        if content:\n",
    "            text = [p.text for p in content.find_all('p')]\n",
    "            slideNum = int(soup.find(\"span\", {\"class\": \"slidecount\"}).text.split(\"/\")[1])\n",
    "            for slideIdx in range (2,slideNum) :\n",
    "                next_page = urllib.request.urlopen(url+'?slide='+str(slideIdx)).read()\n",
    "                next_soup = BeautifulSoup(next_page,\"lxml\")\n",
    "                content = next_soup.find(\"div\", {\"id\": \"slideshow-text\"})\n",
    "                text.extend([p.text for p in content.find_all('p')])\n",
    "            return text\n",
    "    if not content:\n",
    "         return soup.title.string\n",
    "    # get text\n",
    "    text = [p.text for p in content.find_all('p')]\n",
    "    #return soup.title.text, text\n",
    "    return text"
   ]
  },
  {
   "cell_type": "code",
   "execution_count": 45,
   "metadata": {
    "ExecuteTime": {
     "end_time": "2019-01-10T23:13:53.619255Z",
     "start_time": "2019-01-10T23:13:50.671427Z"
    }
   },
   "outputs": [],
   "source": [
    "corpus = []\n",
    "header = []\n",
    "source = []\n",
    "for post in dCNBC.entries[:articles_per_source]:\n",
    "    #print (post.title + \": \" + post.link + \"\\n\")\n",
    "    content = get_CNBC_text(post.link)\n",
    "    corpus.append(\" \".join(content))\n",
    "    header.append([post.title,post.link])\n",
    "    source.append(\"CNBC\")"
   ]
  },
  {
   "cell_type": "code",
   "execution_count": 47,
   "metadata": {
    "ExecuteTime": {
     "end_time": "2019-01-10T23:14:18.230475Z",
     "start_time": "2019-01-10T23:14:17.516286Z"
    }
   },
   "outputs": [],
   "source": [
    "import nltk"
   ]
  },
  {
   "cell_type": "code",
   "execution_count": 51,
   "metadata": {
    "ExecuteTime": {
     "end_time": "2019-01-10T23:16:13.559038Z",
     "start_time": "2019-01-10T23:16:13.010197Z"
    }
   },
   "outputs": [],
   "source": [
    "for article in corpus:\n",
    "    # tokenize\n",
    "    w_tokens = nltk.word_tokenize(article)\n",
    "    s_tokens = nltk.sent_tokenize(article)\n",
    "    p_tokens = nltk.pos_tag(w_tokens)"
   ]
  },
  {
   "cell_type": "code",
   "execution_count": 53,
   "metadata": {
    "ExecuteTime": {
     "end_time": "2019-01-10T23:18:46.504328Z",
     "start_time": "2019-01-10T23:18:46.486371Z"
    }
   },
   "outputs": [
    {
     "ename": "ImportError",
     "evalue": "No module named 'spacy'",
     "output_type": "error",
     "traceback": [
      "\u001b[0;31m---------------------------------------------------------------------------\u001b[0m",
      "\u001b[0;31mImportError\u001b[0m                               Traceback (most recent call last)",
      "\u001b[0;32m<ipython-input-53-4baf70a5b84d>\u001b[0m in \u001b[0;36m<module>\u001b[0;34m()\u001b[0m\n\u001b[0;32m----> 1\u001b[0;31m \u001b[0;32mimport\u001b[0m \u001b[0mspacy\u001b[0m\u001b[0;34m\u001b[0m\u001b[0m\n\u001b[0m\u001b[1;32m      2\u001b[0m \u001b[0;32mfrom\u001b[0m \u001b[0mspacy\u001b[0m \u001b[0;32mimport\u001b[0m \u001b[0mdisplacy\u001b[0m\u001b[0;34m\u001b[0m\u001b[0m\n\u001b[1;32m      3\u001b[0m \u001b[0;32mfrom\u001b[0m \u001b[0mcollections\u001b[0m \u001b[0;32mimport\u001b[0m \u001b[0mCounter\u001b[0m\u001b[0;34m\u001b[0m\u001b[0m\n\u001b[1;32m      4\u001b[0m \u001b[0;32mimport\u001b[0m \u001b[0men_core_web_sm\u001b[0m\u001b[0;34m\u001b[0m\u001b[0m\n\u001b[1;32m      5\u001b[0m \u001b[0mnlp\u001b[0m \u001b[0;34m=\u001b[0m \u001b[0men_core_web_sm\u001b[0m\u001b[0;34m.\u001b[0m\u001b[0mload\u001b[0m\u001b[0;34m(\u001b[0m\u001b[0;34m)\u001b[0m\u001b[0;34m\u001b[0m\u001b[0m\n",
      "\u001b[0;31mImportError\u001b[0m: No module named 'spacy'"
     ]
    }
   ],
   "source": [
    "import spacy\n",
    "from spacy import displacy\n",
    "from collections import Counter\n",
    "import en_core_web_sm\n",
    "nlp = en_core_web_sm.load()"
   ]
  },
  {
   "cell_type": "code",
   "execution_count": null,
   "metadata": {},
   "outputs": [],
   "source": []
  }
 ],
 "metadata": {
  "kernelspec": {
   "display_name": "Python 3",
   "language": "python",
   "name": "python3"
  },
  "language_info": {
   "codemirror_mode": {
    "name": "ipython",
    "version": 3
   },
   "file_extension": ".py",
   "mimetype": "text/x-python",
   "name": "python",
   "nbconvert_exporter": "python",
   "pygments_lexer": "ipython3",
   "version": "3.5.4"
  },
  "varInspector": {
   "cols": {
    "lenName": 16,
    "lenType": 16,
    "lenVar": 40
   },
   "kernels_config": {
    "python": {
     "delete_cmd_postfix": "",
     "delete_cmd_prefix": "del ",
     "library": "var_list.py",
     "varRefreshCmd": "print(var_dic_list())"
    },
    "r": {
     "delete_cmd_postfix": ") ",
     "delete_cmd_prefix": "rm(",
     "library": "var_list.r",
     "varRefreshCmd": "cat(var_dic_list()) "
    }
   },
   "types_to_exclude": [
    "module",
    "function",
    "builtin_function_or_method",
    "instance",
    "_Feature"
   ],
   "window_display": false
  }
 },
 "nbformat": 4,
 "nbformat_minor": 2
}
